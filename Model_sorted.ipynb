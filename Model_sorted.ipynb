{
 "cells": [
  {
   "cell_type": "code",
   "execution_count": 1,
   "metadata": {},
   "outputs": [],
   "source": [
    "import numpy as np\n",
    "import pandas as pd\n",
    "import os"
   ]
  },
  {
   "cell_type": "code",
   "execution_count": 2,
   "metadata": {},
   "outputs": [],
   "source": [
    "os.chdir('E:\\НИР\\Данные')"
   ]
  },
  {
   "cell_type": "markdown",
   "metadata": {},
   "source": [
    "Данные брал из следующих источников:\n",
    "закладки - bookmarks\n",
    "избранное - favorites\n",
    "покупки - orders и order_line\n",
    "посещение - visit\n",
    "ИКПП - таблицы content_holders и new_stats\n",
    "bookslog"
   ]
  },
  {
   "cell_type": "code",
   "execution_count": 17,
   "metadata": {},
   "outputs": [],
   "source": [
    "books_log = pd.read_csv('books_log.csv',sep=';')\n",
    "bookmarks = pd.read_csv('bookmarks.csv',sep=',')\n",
    "favorites = pd.read_csv('favorites.csv',sep=';')\n",
    "orders = pd.read_csv('orders.csv',sep=',')\n",
    "contents_disciplines = pd.read_csv('contents_disciplines.csv',sep=';')\n",
    "visit = pd.read_csv('visits.csv',sep=',')\n",
    "book_shelf = pd.read_csv('book_shelf.csv',sep=',')"
   ]
  },
  {
   "cell_type": "code",
   "execution_count": 18,
   "metadata": {},
   "outputs": [],
   "source": [
    "bookmarks['ebs_user_id'] = bookmarks['user_id']\n",
    "book_shelf['ebs_user_id'] = book_shelf['reader_id']"
   ]
  },
  {
   "cell_type": "code",
   "execution_count": 19,
   "metadata": {},
   "outputs": [],
   "source": [
    "books_log = books_log.astype(str)\n",
    "bookmarks = bookmarks.astype(str)\n",
    "favorites = favorites.astype(str)\n",
    "orders = orders.astype(str)\n",
    "contents_disciplines = contents_disciplines.astype(str)\n",
    "visit = visit.astype(str)\n",
    "book_shelf = book_shelf.astype(str)"
   ]
  },
  {
   "cell_type": "markdown",
   "metadata": {},
   "source": [
    "Добавляю к данным номер дисциплины по content_id"
   ]
  },
  {
   "cell_type": "code",
   "execution_count": 20,
   "metadata": {},
   "outputs": [],
   "source": [
    "books_log_1= pd.merge(books_log,contents_disciplines,on='content_id',how='left')\n",
    "orders = pd.merge(orders,contents_disciplines,on='content_id',how='left')\n",
    "bookmarks = pd.merge(bookmarks,contents_disciplines,on='content_id',how='left')\n",
    "favorites= pd.merge(favorites,contents_disciplines,on='content_id',how='left')\n",
    "visit= pd.merge(visit,contents_disciplines,on='content_id',how='left')\n",
    "book_shelf = pd.merge(book_shelf,contents_disciplines,on='content_id',how='left')"
   ]
  },
  {
   "cell_type": "markdown",
   "metadata": {},
   "source": [
    "Считаю количество дисциплин у каждого преподавателя по каждой дисциплине"
   ]
  },
  {
   "cell_type": "code",
   "execution_count": 21,
   "metadata": {},
   "outputs": [],
   "source": [
    "books_count = books_log_1.groupby(['ebs_user_id','discipline_id'],axis=0).agg(\n",
    "c_books = pd.NamedAgg(column = 'discipline_id', aggfunc = 'count')\n",
    ").reset_index()\n",
    "orders_count = orders.groupby(['ebs_user_id','discipline_id'],axis=0).agg(\n",
    "c_orders = pd.NamedAgg(column = 'discipline_id', aggfunc = 'count')\n",
    ").reset_index()\n",
    "bookmarks_count = bookmarks.groupby(['ebs_user_id','discipline_id'],axis=0).agg(\n",
    "c_bookmarks = pd.NamedAgg(column = 'discipline_id', aggfunc = 'count')\n",
    ").reset_index()\n",
    "favorites_count = favorites.groupby(['ebs_user_id','discipline_id'],axis=0).agg(\n",
    "c_favourites = pd.NamedAgg(column = 'discipline_id', aggfunc = 'count')\n",
    ").reset_index()\n",
    "bookshelf_count = book_shelf.groupby(['ebs_user_id','discipline_id'],axis=0).agg(\n",
    "c_bookshelf = pd.NamedAgg(column = 'discipline_id', aggfunc = 'count')\n",
    ").reset_index()\n",
    "visit_count = visit.groupby(['ebs_user_id','discipline_id'],axis=0).agg(\n",
    "c_visit = pd.NamedAgg(column = 'discipline_id', aggfunc = 'count')\n",
    ").reset_index()"
   ]
  },
  {
   "cell_type": "markdown",
   "metadata": {},
   "source": [
    "Нормирую данные"
   ]
  },
  {
   "cell_type": "code",
   "execution_count": 22,
   "metadata": {},
   "outputs": [],
   "source": [
    "from sklearn.preprocessing import minmax_scale\n",
    "books_count['c_books_norm'] = books_count.groupby('discipline_id').c_books.transform(lambda x: minmax_scale(x.astype(float)))\n",
    "orders_count['c_ordrs_norm'] = orders_count.groupby('discipline_id').c_orders.transform(lambda x: minmax_scale(x.astype(float)))\n",
    "bookmarks_count['c_bookmarks_norm'] = bookmarks_count.groupby('discipline_id').c_bookmarks.transform(lambda x: minmax_scale(x.astype(float)))\n",
    "favorites_count['c_favourites_norm'] = favorites_count.groupby('discipline_id').c_favourites.transform(lambda x: minmax_scale(x.astype(float)))\n",
    "bookshelf_count['c_bookshelf_norm'] = bookshelf_count.groupby('discipline_id').c_bookshelf.transform(lambda x: minmax_scale(x.astype(float)))\n",
    "visit_count['c_visit_norm'] = visit_count.groupby('discipline_id').c_visit.transform(lambda x: minmax_scale(x.astype(float)))"
   ]
  },
  {
   "cell_type": "markdown",
   "metadata": {},
   "source": [
    "Объединяю данные в одну таблицу"
   ]
  },
  {
   "cell_type": "code",
   "execution_count": 23,
   "metadata": {},
   "outputs": [],
   "source": [
    "book_orders = pd.merge(books_count,orders_count,on=['ebs_user_id','discipline_id'],how='outer')\n",
    "book_orders = pd.merge(book_orders,bookmarks_count,on=['ebs_user_id','discipline_id'],how='outer')\n",
    "book_orders = pd.merge(book_orders,favorites_count,on=['ebs_user_id','discipline_id'],how='outer')\n",
    "book_orders = pd.merge(book_orders,bookshelf_count,on=['ebs_user_id','discipline_id'],how='outer')\n",
    "book_orders = pd.merge(book_orders,visit_count,on=['ebs_user_id','discipline_id'],how='outer')"
   ]
  },
  {
   "cell_type": "markdown",
   "metadata": {},
   "source": [
    "Заполняю пропущенные значения нулями"
   ]
  },
  {
   "cell_type": "code",
   "execution_count": 24,
   "metadata": {},
   "outputs": [],
   "source": [
    "book_orders['c_books_norm'] = book_orders['c_books_norm'].fillna(0)\n",
    "book_orders['c_ordrs_norm'] = book_orders['c_ordrs_norm'].fillna(0)\n",
    "book_orders['c_bookmarks_norm'] = book_orders['c_bookmarks_norm'].fillna(0)\n",
    "book_orders['c_favourites_norm'] = book_orders['c_favourites_norm'].fillna(0)\n",
    "book_orders['c_bookshelf_norm'] = book_orders['c_bookshelf_norm'].fillna(0)\n",
    "book_orders['c_visit_norm'] = book_orders['c_visit_norm'].fillna(0)"
   ]
  },
  {
   "cell_type": "markdown",
   "metadata": {},
   "source": [
    "Умножаю веса"
   ]
  },
  {
   "cell_type": "code",
   "execution_count": 25,
   "metadata": {},
   "outputs": [],
   "source": [
    "book_orders[\"c_books_norm\"] = 0.1 * book_orders[\"c_books_norm\"]\n",
    "book_orders[\"c_ordrs_norm\"] = 0.3 * book_orders[\"c_ordrs_norm\"]\n",
    "book_orders[\"c_bookmarks_norm\"] = 0.25 * book_orders[\"c_bookmarks_norm\"]\n",
    "book_orders[\"c_favourites_norm\"] = 0.1 * book_orders[\"c_books_norm\"]\n",
    "book_orders[\"c_bookshelf_norm\"] = 0.15 * book_orders[\"c_books_norm\"]\n",
    "book_orders[\"c_books_norm\"] = 0.1 * book_orders[\"c_books_norm\"]"
   ]
  },
  {
   "cell_type": "code",
   "execution_count": 26,
   "metadata": {},
   "outputs": [],
   "source": [
    "book_orders = pd.DataFrame(book_orders.drop(columns = ['c_books', 'c_orders', 'c_bookmarks', 'c_favourites', 'c_bookshelf','c_visit']))"
   ]
  },
  {
   "cell_type": "markdown",
   "metadata": {},
   "source": [
    "Суммирую все нормированные активности"
   ]
  },
  {
   "cell_type": "code",
   "execution_count": 27,
   "metadata": {},
   "outputs": [],
   "source": [
    "sum_all = book_orders['c_books_norm'] + book_orders['c_ordrs_norm'] + book_orders['c_bookmarks_norm'] + book_orders['c_ordrs_norm'] + book_orders['c_favourites_norm'] + book_orders['c_bookshelf_norm'] + book_orders['c_visit_norm']\n",
    "book_orders['sum_all'] = sum_all "
   ]
  },
  {
   "cell_type": "markdown",
   "metadata": {},
   "source": [
    "Сортирую по сумме активностей конкретного пользователя"
   ]
  },
  {
   "cell_type": "code",
   "execution_count": 71,
   "metadata": {},
   "outputs": [
    {
     "name": "stdout",
     "output_type": "stream",
     "text": [
      "                             ebs_user_id discipline_id  c_books_norm  \\\n",
      "7   00003052-D3BC-4965-9239-3BEE91FED0A1          4059      0.010000   \n",
      "12  00003052-D3BC-4965-9239-3BEE91FED0A1          9326      0.001778   \n",
      "2   00003052-D3BC-4965-9239-3BEE91FED0A1          3148      0.001596   \n",
      "10  00003052-D3BC-4965-9239-3BEE91FED0A1          8069      0.001596   \n",
      "5   00003052-D3BC-4965-9239-3BEE91FED0A1          3763      0.001351   \n",
      "4   00003052-D3BC-4965-9239-3BEE91FED0A1          3761      0.001316   \n",
      "0   00003052-D3BC-4965-9239-3BEE91FED0A1         12339      0.001277   \n",
      "3   00003052-D3BC-4965-9239-3BEE91FED0A1          3760      0.001268   \n",
      "1   00003052-D3BC-4965-9239-3BEE91FED0A1         16478      0.001059   \n",
      "11  00003052-D3BC-4965-9239-3BEE91FED0A1          8070      0.000968   \n",
      "9   00003052-D3BC-4965-9239-3BEE91FED0A1          4365      0.000921   \n",
      "6   00003052-D3BC-4965-9239-3BEE91FED0A1          4045      0.000556   \n",
      "8   00003052-D3BC-4965-9239-3BEE91FED0A1          4154      0.000226   \n",
      "\n",
      "    c_ordrs_norm  c_bookmarks_norm  c_favourites_norm  c_bookshelf_norm  \\\n",
      "7            0.0               0.0           0.010000          0.015000   \n",
      "12           0.0               0.0           0.001778          0.002667   \n",
      "2            0.0               0.0           0.001596          0.002394   \n",
      "10           0.0               0.0           0.001596          0.002394   \n",
      "5            0.0               0.0           0.001351          0.002027   \n",
      "4            0.0               0.0           0.001316          0.001974   \n",
      "0            0.0               0.0           0.001277          0.001915   \n",
      "3            0.0               0.0           0.001268          0.001901   \n",
      "1            0.0               0.0           0.001059          0.001588   \n",
      "11           0.0               0.0           0.000968          0.001452   \n",
      "9            0.0               0.0           0.000921          0.001382   \n",
      "6            0.0               0.0           0.000556          0.000833   \n",
      "8            0.0               0.0           0.000226          0.000338   \n",
      "\n",
      "    c_visit_norm   sum_all  \n",
      "7            0.0  0.035000  \n",
      "12           0.0  0.006222  \n",
      "2            0.0  0.005585  \n",
      "10           0.0  0.005585  \n",
      "5            0.0  0.004730  \n",
      "4            0.0  0.004605  \n",
      "0            0.0  0.004468  \n",
      "3            0.0  0.004437  \n",
      "1            0.0  0.003706  \n",
      "11           0.0  0.003387  \n",
      "9            0.0  0.003224  \n",
      "6            0.0  0.001944  \n",
      "8            0.0  0.000789  \n"
     ]
    }
   ],
   "source": [
    "\n",
    "if book_orders.isin(['00003052-D3BC-4965-9239-3BEE91FED0A1']).any().any() :\n",
    "    book_orders_1 = book_orders.loc[book_orders['ebs_user_id'] == '00003052-D3BC-4965-9239-3BEE91FED0A1']\n",
    "    book_orders_1 = book_orders_1.sort_values(by='sum_all', ascending=False)\n",
    "    print(book_orders_1)\n",
    "else:\n",
    "    print('Нет в списке')"
   ]
  }
 ],
 "metadata": {
  "kernelspec": {
   "display_name": "Python 3",
   "language": "python",
   "name": "python3"
  },
  "language_info": {
   "codemirror_mode": {
    "name": "ipython",
    "version": 3
   },
   "file_extension": ".py",
   "mimetype": "text/x-python",
   "name": "python",
   "nbconvert_exporter": "python",
   "pygments_lexer": "ipython3",
   "version": "3.8.3"
  }
 },
 "nbformat": 4,
 "nbformat_minor": 4
}
